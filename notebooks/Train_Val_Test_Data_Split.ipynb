{
 "cells": [
  {
   "cell_type": "code",
   "execution_count": 1,
   "metadata": {},
   "outputs": [
    {
     "name": "stderr",
     "output_type": "stream",
     "text": [
      "Copying files: 6000 files [00:53, 112.21 files/s]\n"
     ]
    }
   ],
   "source": [
    "import splitfolders  # or import split_folders\n",
    "data_dir = \"C:/Users/17175/Documents/Pole_Image_Classifier_V2/data/processed/class_split\"\n",
    "split_dir = \"C:/Users/17175/Documents/Pole_Image_Classifier_V2/data/processed/train_val_split\"\n",
    "splitfolders.ratio(data_dir, output=split_dir, seed=1337, ratio=(0.5, 0.1, 0.4), group_prefix=None) # default values"
   ]
  },
  {
   "cell_type": "code",
   "execution_count": null,
   "metadata": {},
   "outputs": [],
   "source": []
  }
 ],
 "metadata": {
  "kernelspec": {
   "display_name": "Python 3",
   "language": "python",
   "name": "python3"
  },
  "language_info": {
   "codemirror_mode": {
    "name": "ipython",
    "version": 3
   },
   "file_extension": ".py",
   "mimetype": "text/x-python",
   "name": "python",
   "nbconvert_exporter": "python",
   "pygments_lexer": "ipython3",
   "version": "3.8.3rc1"
  }
 },
 "nbformat": 4,
 "nbformat_minor": 4
}
